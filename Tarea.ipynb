{
 "cells": [
  {
   "cell_type": "code",
   "execution_count": null,
   "metadata": {},
   "outputs": [],
   "source": [
    "!conda create -n bio python=3.9\n",
    "!conda init bash\n",
    "!conda config --add channels bioconda"
   ]
  },
  {
   "cell_type": "code",
   "execution_count": null,
   "metadata": {},
   "outputs": [],
   "source": [
    "!conda install -c bioconda fastqc # para analizar la calidad de los reads\n",
    "!conda install -c bioconda bwa # para alinear los reads contrar un genoma de referencia\n",
    "!conda install -c bioconda samtools # para transformar el archivo de alieamiento en un formato desplegable de manera gráfica\n",
    "!conda install -c bioconda igv # para visualizar gráficamente los aineamientos\n",
    "!conda install -c bioconda bcftools # para identificar las variantes (mutaciones)\n",
    "!conda install -c conda-forge py-bgzip # para comprimir en DNAref previo al pileup del llamado de variantes"
   ]
  },
  {
   "cell_type": "code",
   "execution_count": null,
   "metadata": {},
   "outputs": [],
   "source": [
    "!mkdir DNAref # para almacenar el DNA de referencia\n",
    "!mkdir RawReads # para los reads crudos (que vienen del secuenciador)\n",
    "!mkdir FastQC_rawReads #para almacenar los reportes de FastQC de los datos crudos\n",
    "!mkdir Trimmed_reads # para almacenar los FASTQ podados\n",
    "!mkdir FastQC_trimmedReads #para almacenar los reportes de FastQC de los datos podados\n",
    "!mkdir Aligned_reads # para almacenar los archivos de alineamiento\n",
    "!mkdir Variant_calling # para almacenar las variantes identificadas"
   ]
  },
  {
   "attachments": {},
   "cell_type": "markdown",
   "metadata": {},
   "source": [
    "-   Se crearon los directorios y posteriormente se obtuvo los archivos subidos a siveduc para el grupo 5, estos fueron añadidos a RawReads siguiendo las instrucciones del laboratorio, igualmente se aplico el comando \"ln -s [archivo libreria] [L(num)R(1|2).fq.gz]\" a cada libreria descargada.\n",
    "-   Se Descargo el FASTA y GFF3 del cromosoma 16 de Homo sapiens (GRCh38) y estos se renombraron a GRCh38 y se agregaron a la carpeta DNAref."
   ]
  },
  {
   "attachments": {},
   "cell_type": "markdown",
   "metadata": {},
   "source": [
    "### Control de calidad\n"
   ]
  },
  {
   "cell_type": "code",
   "execution_count": null,
   "metadata": {},
   "outputs": [],
   "source": [
    "!fastqc RawReads/L16R1.fq -o FastQC_rawReads/\n",
    "!fastqc RawReads/L16R2.fq -o FastQC_rawReads/"
   ]
  },
  {
   "cell_type": "code",
   "execution_count": null,
   "metadata": {},
   "outputs": [],
   "source": [
    "!fastqc RawReads/L17R1.fq -o FastQC_rawReads/\n",
    "!fastqc RawReads/L17R2.fq -o FastQC_rawReads/"
   ]
  },
  {
   "attachments": {},
   "cell_type": "markdown",
   "metadata": {},
   "source": [
    "### Trimming"
   ]
  },
  {
   "cell_type": "code",
   "execution_count": null,
   "metadata": {},
   "outputs": [],
   "source": [
    "!trimmomatic PE RawReads/L16R1.fq RawReads/L16R2.fq Trimmed_reads/p_L16R1.fq Trimmed_reads/u_L16R1.fq Trimmed_reads/p_L16R2.fq Trimmed_reads/u_L16R2.fq LEADING:3 TRAILING:3 SLIDINGWINDOW:4:20 MINLEN:20\n",
    "!trimmomatic PE RawReads/L17R1.fq RawReads/L17R2.fq Trimmed_reads/p_L17R1.fq Trimmed_reads/u_L17R1.fq Trimmed_reads/p_L17R2.fq Trimmed_reads/u_L17R2.fq LEADING:3 TRAILING:3 SLIDINGWINDOW:4:20 MINLEN:20"
   ]
  },
  {
   "cell_type": "code",
   "execution_count": null,
   "metadata": {},
   "outputs": [],
   "source": [
    "!for i in `ls Trimmed_reads/p*.fq`; do fastqc $i -o FastQC_trimmedReads/; done"
   ]
  },
  {
   "attachments": {},
   "cell_type": "markdown",
   "metadata": {},
   "source": [
    "### Alineamiento : Indexacion"
   ]
  },
  {
   "cell_type": "code",
   "execution_count": 14,
   "metadata": {},
   "outputs": [
    {
     "name": "stdout",
     "output_type": "stream",
     "text": [
      "[bwa_index] Pack FASTA... 7.72 sec\n",
      "[bwa_index] Construct BWT for the packed sequence...\n",
      "[BWTIncCreate] textLength=497912844, availableWord=47034604\n",
      "[BWTIncConstructFromPacked] 10 iterations done. 76325452 characters processed.\n",
      "[BWTIncConstructFromPacked] 20 iterations done. 142216380 characters processed.\n",
      "[BWTIncConstructFromPacked] 30 iterations done. 200776364 characters processed.\n",
      "[BWTIncConstructFromPacked] 40 iterations done. 252820604 characters processed.\n",
      "[BWTIncConstructFromPacked] 50 iterations done. 299073676 characters processed.\n",
      "[BWTIncConstructFromPacked] 60 iterations done. 340179500 characters processed.\n",
      "[BWTIncConstructFromPacked] 70 iterations done. 376710428 characters processed.\n",
      "[BWTIncConstructFromPacked] 80 iterations done. 409175164 characters processed.\n",
      "[BWTIncConstructFromPacked] 90 iterations done. 438025868 characters processed.\n",
      "[BWTIncConstructFromPacked] 100 iterations done. 463664428 characters processed.\n",
      "[BWTIncConstructFromPacked] 110 iterations done. 486447996 characters processed.\n",
      "[bwt_gen] Finished constructing BWT in 116 iterations.\n",
      "[bwa_index] 157.99 seconds elapse.\n",
      "[bwa_index] Update BWT... 3.18 sec\n",
      "[bwa_index] Pack forward-only FASTA... 1.68 sec\n",
      "[bwa_index] Construct SA from BWT and Occ... 69.09 sec\n",
      "[main] Version: 0.7.17-r1188\n",
      "[main] CMD: bwa index DNAref/GRCh38.fasta\n",
      "[main] Real time: 241.807 sec; CPU: 239.666 sec\n",
      "\n",
      "real\t4m1.808s\n",
      "user\t3m48.425s\n",
      "sys\t0m11.242s\n"
     ]
    }
   ],
   "source": [
    "!time bwa index DNAref/GRCh38.fasta"
   ]
  },
  {
   "attachments": {},
   "cell_type": "markdown",
   "metadata": {},
   "source": [
    "#### Alineamiento"
   ]
  },
  {
   "cell_type": "code",
   "execution_count": 23,
   "metadata": {},
   "outputs": [
    {
     "name": "stdout",
     "output_type": "stream",
     "text": [
      "[M::bwa_idx_load_from_disk] read 0 ALT contigs\n",
      "[M::process] read 45400 sequences (10000158 bp)...\n",
      "[M::process] read 21396 sequences (4696651 bp)...\n",
      "[M::mem_pestat] # candidate unique pairs for (FF, FR, RF, RR): (0, 0, 0, 0)\n",
      "[M::mem_pestat] skip orientation FF as there are not enough pairs\n",
      "[M::mem_pestat] skip orientation FR as there are not enough pairs\n",
      "[M::mem_pestat] skip orientation RF as there are not enough pairs\n",
      "[M::mem_pestat] skip orientation RR as there are not enough pairs\n",
      "[M::mem_process_seqs] Processed 45400 reads in 9.794 CPU sec, 9.762 real sec\n",
      "[M::mem_pestat] # candidate unique pairs for (FF, FR, RF, RR): (0, 1, 0, 0)\n",
      "[M::mem_pestat] skip orientation FF as there are not enough pairs\n",
      "[M::mem_pestat] skip orientation FR as there are not enough pairs\n",
      "[M::mem_pestat] skip orientation RF as there are not enough pairs\n",
      "[M::mem_pestat] skip orientation RR as there are not enough pairs\n",
      "[M::mem_process_seqs] Processed 21396 reads in 4.582 CPU sec, 4.513 real sec\n",
      "[main] Version: 0.7.17-r1188\n",
      "[main] CMD: bwa mem DNAref/GRCh38.fasta Trimmed_reads/p_L16R1.fq Trimmed_reads/p_L16R2.fq\n",
      "[main] Real time: 14.943 sec; CPU: 14.966 sec\n"
     ]
    }
   ],
   "source": [
    "!bwa mem DNAref/GRCh38.fasta Trimmed_reads/p_L16R1.fq Trimmed_reads/p_L16R2.fq > Aligned_reads/L16.sam"
   ]
  }
 ],
 "metadata": {
  "kernelspec": {
   "display_name": "bio",
   "language": "python",
   "name": "python3"
  },
  "language_info": {
   "codemirror_mode": {
    "name": "ipython",
    "version": 3
   },
   "file_extension": ".py",
   "mimetype": "text/x-python",
   "name": "python",
   "nbconvert_exporter": "python",
   "pygments_lexer": "ipython3",
   "version": "3.9.16"
  },
  "orig_nbformat": 4
 },
 "nbformat": 4,
 "nbformat_minor": 2
}
